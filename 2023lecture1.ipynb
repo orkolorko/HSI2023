{
 "cells": [
  {
   "cell_type": "markdown",
   "metadata": {},
   "source": [
    "# Content"
   ]
  },
  {
   "cell_type": "markdown",
   "metadata": {},
   "source": [
    "In this lecture I will introduce:\n",
    "- The programming language Julia\n",
    "- Using Jupyter notebooks to run computations and present them\n",
    "- How to compute the orbit of a (deterministic and random) dynamical system in Julia\n",
    "- How to compute Birkhoff averages\n",
    "- Automatic differentiation\n",
    "- Classical algorithm to approximate Lyapunov exponent (non-rigorous)\n",
    "- How to make animations to show the Central Limit Theorem in action"
   ]
  },
  {
   "cell_type": "markdown",
   "metadata": {},
   "source": [
    "# Introduction to Julia and Jupyter"
   ]
  },
  {
   "cell_type": "markdown",
   "metadata": {},
   "source": [
    "In this notebook I will introduce Julia notation and some of its characteristics, so that it is easy for you to follow the next lectures.\n",
    "The first thing to stress is that Julia is a language with a different approach than \n",
    "1. C, C++, Fortran: if possible Julia infers the type of the variables from the context, so code can be written in a generic way and Julia takes care of the details (most of the time)\n",
    "2. Python: in Python the code is interpreted, so it runs slowly. Julia does the following, once the types are identified Julia compiles the code. So the first run of a function is slow, but all subsequent runs are fast.\n",
    "\n",
    "We will see this through examples."
   ]
  },
  {
   "cell_type": "markdown",
   "metadata": {},
   "source": [
    "Julia can be used in different forms:\n",
    "* running the julia shell \n",
    "* in Jupyter (or Pluto) notebooks, the environment where we are now\n",
    "* running scripts in the command line by callin `julia filename.jl`\n",
    "\n",
    "Due to their ease of use, in these lessons we will focus in using Jupyter notebooks."
   ]
  },
  {
   "cell_type": "markdown",
   "metadata": {},
   "source": [
    "Jupyter notebooks consists of cells, of essentially two types: \n",
    "- Markdown cells, where text can be written, \n",
    "- Code cells where code is written and run. \n",
    "\n",
    "I will introduce some of the commands of Jupyter notebooks. \n",
    "\n",
    "You can create a new cell above the selected one by pressing __a__ and below the selected one by pressing __b__ . If you select a cell and press __dd__ this will delete the cell. \n",
    "\n",
    "You can edit a cell by pressing __ENTER__ when it is selected and you run the code (or compile the Markdown) in a cell by pressing __SHIFT+ENTER__.\n",
    "Remark that when you select a Markdown cell and press enter, you \n",
    "\n",
    "The key __ESC__ will take you to navigation mode, a mode that allows you to move with your arrows between cells.\n",
    "\n",
    "By default, new cells are Code cells, if you want to turn a code into Markdown, you enter navigation mode, select the cell and press __m__. To change a Markdown cell to code, enter navigation mode, select the cell and press __y__."
   ]
  },
  {
   "cell_type": "markdown",
   "metadata": {},
   "source": [
    "In Markdown cells it is possible to write LaTeX code, as \n",
    "$$\\frac{1}{N-1}\\sum_{i=0}^{N-1}\\phi(T^i(x_0))$$\n",
    "and it is possible to use Markdown syntax, that allows to typeset in a similar way as HTML (while being much simpler).\n",
    "A good reference for Markdown syntax is \n",
    "__[DataCamp Markdown tutorial](https://www.datacamp.com/community/tutorials/markdown-in-jupyter-notebook?utm_source=adwords_ppc&utm_campaignid=1455363063&utm_adgroupid=65083631748&utm_device=c&utm_keyword=&utm_matchtype=b&utm_network=g&utm_adpostion=&utm_creative=278443377095&utm_targetid=aud-390929969673:dsa-429603003980&utm_loc_interest_ms=&utm_loc_physical_ms=1001655&gclid=Cj0KCQjwjo2JBhCRARIsAFG667V_O7vei8Tvaa0wRyoIgzbUrKtpHLpPVKBPYlXIMr5p4b5YxTvuXZwaApHUEALw_wcB)__."
   ]
  },
  {
   "cell_type": "markdown",
   "metadata": {},
   "source": [
    "#### Exercise 1\n",
    "Create a cell below this one and convert it to a Markdown cell. Make an unordered list with three items: \n",
    "- one equation, my favourite is $e^{2\\pi i x}-1=0$\n",
    "- the name of a theorem, my favourite is Birkhoff Ergodic Theorem\n",
    "- your country of origin, I'm italian but I now live in Brazil."
   ]
  },
  {
   "cell_type": "markdown",
   "metadata": {},
   "source": [
    "It is possible also to make an ordered list:\n",
    "1. $\\pi \\approx 3.14159$\n",
    "2. **Perron-Frobenius theorem**\n",
    "3. I have lived in Sapporo for one year but now I moved back to Brazil"
   ]
  },
  {
   "cell_type": "markdown",
   "metadata": {},
   "source": [
    "Now we can start speaking about Julia.\n",
    "First of all: a line starting with __#__ is a comment."
   ]
  },
  {
   "cell_type": "markdown",
   "metadata": {},
   "source": [
    "### Julia: Variable declaration"
   ]
  },
  {
   "cell_type": "markdown",
   "metadata": {},
   "source": [
    "When working in the Julia shell (called Julia REPL), or in the Jupyter notebook, declaring a variable is really simple, we just write its value with an assignment symbol $=$."
   ]
  },
  {
   "cell_type": "code",
   "execution_count": null,
   "metadata": {},
   "outputs": [],
   "source": [
    "# This is a code cell\n",
    "\n",
    "x = 1   # interpreted as an integer\n",
    "println(x)\n",
    "println(typeof(x))"
   ]
  },
  {
   "cell_type": "code",
   "execution_count": null,
   "metadata": {},
   "outputs": [],
   "source": [
    "y = 1.0   #interpreted as an Float64 (corresponding to double in C)\n",
    "println(y)\n",
    "println(typeof(y))\n",
    "println(eps(y)) # gives us the machine epsilon"
   ]
  },
  {
   "cell_type": "markdown",
   "metadata": {},
   "source": [
    "## Julia: Declare a function"
   ]
  },
  {
   "cell_type": "markdown",
   "metadata": {},
   "source": [
    "It is possible to declare functions using the one-line syntax.\n",
    "\n",
    "We declare now the function \n",
    "$$\n",
    "f(t, x) = a\\cdot x\\cdot (1-x)\n",
    "$$\n",
    "\n",
    "As in mathematical notation, the variables inside the parentheses are the independent variables (the input)\n",
    "and the function returns an output."
   ]
  },
  {
   "cell_type": "code",
   "execution_count": null,
   "metadata": {},
   "outputs": [],
   "source": [
    "dyn(a, x) = a*x*(1-x)"
   ]
  },
  {
   "cell_type": "code",
   "execution_count": null,
   "metadata": {},
   "outputs": [],
   "source": [
    "dyn(4, 0.5)"
   ]
  },
  {
   "cell_type": "code",
   "execution_count": null,
   "metadata": {},
   "outputs": [],
   "source": [
    "a = 3.9\n",
    "x = 0.5\n",
    "\n",
    "y = dyn(a, x)"
   ]
  },
  {
   "cell_type": "markdown",
   "metadata": {},
   "source": [
    "Julia, in general shows as an output the output of the last operation; in our case, the value of $y$."
   ]
  },
  {
   "cell_type": "markdown",
   "metadata": {},
   "source": [
    "In the case of more complex functions, it is possible to use the multiline syntax using the keyword `function`"
   ]
  },
  {
   "cell_type": "code",
   "execution_count": null,
   "metadata": {},
   "outputs": [],
   "source": [
    "function dyn_multiline(a, x)\n",
    "    y = a*x*(1-x)\n",
    "    return y\n",
    "end"
   ]
  },
  {
   "cell_type": "code",
   "execution_count": null,
   "metadata": {},
   "outputs": [],
   "source": [
    "dyn_multiline(0.1, 0.01)"
   ]
  },
  {
   "cell_type": "code",
   "execution_count": null,
   "metadata": {},
   "outputs": [],
   "source": [
    "dyn_multiline(-1, 17)"
   ]
  },
  {
   "cell_type": "code",
   "execution_count": null,
   "metadata": {},
   "outputs": [],
   "source": [
    "dyn_multiline(-1, 17)"
   ]
  },
  {
   "cell_type": "markdown",
   "metadata": {},
   "source": [
    "It is important to remark that we did not specify the type of the arguments or of the output of the function.\n",
    "What Julia does is that it infers the type of the arguments and of the output when you run the function the first type and compiles a version of the function that works \n",
    "for these types. This is called __Just in time compilation__, or __JIT__.\n",
    "This compiled version of the function is stored and reused later. I will stress this concept many times during this presentation because it is something special to Julia, and that must be taken into account to generate performant code."
   ]
  },
  {
   "cell_type": "markdown",
   "metadata": {},
   "source": [
    "Sometimes, reading Julia source code you will see something like this. To write the $\\alpha$ in the source code I write `\\alpha` and then press `TAB`. "
   ]
  },
  {
   "cell_type": "code",
   "execution_count": null,
   "metadata": {},
   "outputs": [],
   "source": [
    "function h(x, t = 1; α = 2.0)\n",
    "    return t-(1+t)*abs(x)^(α)\n",
    "end"
   ]
  },
  {
   "cell_type": "markdown",
   "metadata": {},
   "source": [
    "This function has two default input variables, i.e., I can call this function without specifying `t` and `\\alpha` explictly."
   ]
  },
  {
   "cell_type": "code",
   "execution_count": null,
   "metadata": {},
   "outputs": [],
   "source": [
    "h(0)"
   ]
  },
  {
   "cell_type": "markdown",
   "metadata": {},
   "source": [
    "If needed I can call this function with two arguments, the second argument corresponds to the argument `t` in the argument list. "
   ]
  },
  {
   "cell_type": "code",
   "execution_count": null,
   "metadata": {},
   "outputs": [],
   "source": [
    "h(0, 0.9)"
   ]
  },
  {
   "cell_type": "markdown",
   "metadata": {},
   "source": [
    "The parameter `\\alpha` is a keyword parameter (we declare them after the `;`) and I can set it without changing  \n",
    "the default value of `t`."
   ]
  },
  {
   "cell_type": "code",
   "execution_count": null,
   "metadata": {},
   "outputs": [],
   "source": [
    "h(0.1, α = 3)"
   ]
  },
  {
   "cell_type": "code",
   "execution_count": null,
   "metadata": {},
   "outputs": [],
   "source": [
    "h(0.1, 0.9, α = 5)"
   ]
  },
  {
   "cell_type": "markdown",
   "metadata": {},
   "source": [
    "### Installing packages and plotting"
   ]
  },
  {
   "cell_type": "markdown",
   "metadata": {},
   "source": [
    "Before going forward, we would like to install the plotting package for Julia. This can be done in two different ways. Either you go back to the command line, press ] and in the pkg prompt you launch the command \"add Plots\", or we make visible the Pkg package in our working namespace and use it here. \n",
    "\n",
    "Installing a package is something that is needed to be only once for each environment you are using. \n",
    "Julia has an environment system, that allows you to have different installed packages and different versions of the packages for different jobs... I will not enter into details here, but it is good to know that we are working in the main julia environment at the moment and there is the possibility of having different environments through the use of the command __activate__.\n",
    "\n",
    "The following two cells are going to be run only once (in this environment)."
   ]
  },
  {
   "cell_type": "code",
   "execution_count": null,
   "metadata": {},
   "outputs": [],
   "source": [
    "using Pkg # this brings Pkg into our working environment"
   ]
  },
  {
   "cell_type": "code",
   "execution_count": null,
   "metadata": {},
   "outputs": [],
   "source": [
    "Pkg.add(\"Plots\") # this installs Plots in the active environment"
   ]
  },
  {
   "cell_type": "markdown",
   "metadata": {},
   "source": [
    "### Function compiling and types"
   ]
  },
  {
   "cell_type": "code",
   "execution_count": null,
   "metadata": {},
   "outputs": [],
   "source": [
    "# One line declaration\n",
    "f(x) = 4x*(1-x)"
   ]
  },
  {
   "cell_type": "markdown",
   "metadata": {},
   "source": [
    "We will see now the behaviour of the Just in Time compiler of Julia. The first time we will run the function the function is going to be slow, due to compilation time, the second time it is going to be fast because the function is already compiled. Please remark that each time we change the type of the variables Julia is going to compile a new version."
   ]
  },
  {
   "cell_type": "markdown",
   "metadata": {},
   "source": [
    "Another thing worth nothing are macros, that begin with __@__. Macros act on the source code of Julia to change it before compilation. The __@time__ macro can be used in front of a function to have a simple benchmark of its behaviour."
   ]
  },
  {
   "cell_type": "markdown",
   "metadata": {},
   "source": [
    "We first run and compile the function for Float64 (native floating point numbers)."
   ]
  },
  {
   "cell_type": "code",
   "execution_count": null,
   "metadata": {},
   "outputs": [],
   "source": [
    "x = 0.1\n",
    "print(typeof(x))\n",
    "@time f(x)"
   ]
  },
  {
   "cell_type": "code",
   "execution_count": null,
   "metadata": {},
   "outputs": [],
   "source": [
    "@time f(x)"
   ]
  },
  {
   "cell_type": "markdown",
   "metadata": {},
   "source": [
    "Simply by changing the type of the input, we will compile the function for software multiprecision floating point numbers."
   ]
  },
  {
   "cell_type": "code",
   "execution_count": null,
   "metadata": {},
   "outputs": [],
   "source": [
    "x = BigFloat(π)/4\n",
    "@time f(x)"
   ]
  },
  {
   "cell_type": "code",
   "execution_count": null,
   "metadata": {},
   "outputs": [],
   "source": [
    "setprecision(BigFloat, 1024)"
   ]
  },
  {
   "cell_type": "markdown",
   "metadata": {},
   "source": [
    "As you can see, the output shows the fact that most of the time was spent compiling the function."
   ]
  },
  {
   "cell_type": "code",
   "execution_count": null,
   "metadata": {},
   "outputs": [],
   "source": [
    "@time f(x)"
   ]
  },
  {
   "cell_type": "markdown",
   "metadata": {},
   "source": [
    "While up to now we did not speak about the type of variables, under the hood Julia compiles the code, so it infers the type from the context in which we call the function.\n",
    "\n",
    "We can inspect how Julia infers the types in the code using the macro [@code_warntype](https://docs.julialang.org/en/v1/stdlib/InteractiveUtils/#InteractiveUtils.@code_warntype)"
   ]
  },
  {
   "cell_type": "code",
   "execution_count": null,
   "metadata": {},
   "outputs": [],
   "source": [
    "x = 0.1\n",
    "@code_warntype f(x)"
   ]
  },
  {
   "cell_type": "code",
   "execution_count": null,
   "metadata": {},
   "outputs": [],
   "source": [
    "x = BigFloat(0.1) \n",
    "@code_warntype f(x)"
   ]
  },
  {
   "cell_type": "markdown",
   "metadata": {},
   "source": [
    "As you can see, in many cases, Julia is able to reuse the same code for different types. This is an extremely useful feature, since it allows us to write simple and reusable code, simplifying the development. I will show you what happens when we try to apply the function to a type for which things don't go so smoothly."
   ]
  },
  {
   "cell_type": "code",
   "execution_count": null,
   "metadata": {},
   "outputs": [],
   "source": [
    "x = 'A'\n",
    "f(x)"
   ]
  },
  {
   "cell_type": "markdown",
   "metadata": {},
   "source": [
    "As you can see, Julia complains saying that it does not know how do the operation\n",
    "`*` when the left operand is an integer, and the right operand is a character. \n",
    "This means that if we Julia to be able to apply the function `f` to a character we need to define the `*` operation for these types. This gives us a script to follow if we want to extend the function `f`."
   ]
  },
  {
   "cell_type": "markdown",
   "metadata": {},
   "source": [
    "Once the function is compiled, the computation time radically decreases."
   ]
  },
  {
   "cell_type": "markdown",
   "metadata": {},
   "source": [
    "Now, we will bring Plots into the namespace, to plot our function. Plots is a big package, and the first time it runs it is going to be slow. This is one of the main issues with Julia, and the time to first plot is a benchmark for new versions of Julia."
   ]
  },
  {
   "cell_type": "code",
   "execution_count": null,
   "metadata": {},
   "outputs": [],
   "source": [
    "using Plots # this brings the plot package into our namespace"
   ]
  },
  {
   "cell_type": "code",
   "execution_count": null,
   "metadata": {},
   "outputs": [],
   "source": [
    "@time plot(f, 0, 1)"
   ]
  },
  {
   "cell_type": "markdown",
   "metadata": {},
   "source": [
    "The second time, again is much faster."
   ]
  },
  {
   "cell_type": "code",
   "execution_count": null,
   "metadata": {},
   "outputs": [],
   "source": [
    "@time plot(f, 0, 1)"
   ]
  },
  {
   "cell_type": "markdown",
   "metadata": {},
   "source": [
    "## Computing an orbit"
   ]
  },
  {
   "cell_type": "markdown",
   "metadata": {},
   "source": [
    "We start now to use the tools we have at our disposal to do some numerical experiments.\n",
    "The first thing we want to do is to compute an $x, f(x), \\ldots, f^{n-1}(x)$ for an initial point $x$."
   ]
  },
  {
   "cell_type": "code",
   "execution_count": null,
   "metadata": {},
   "outputs": [],
   "source": [
    "function orbit_float(f, x::Float64, n::Int64)\n",
    "    orb = Array{Float64, 1}(undef, n) #this declares an uninitialized vector\n",
    "    orb[1] = x\n",
    "    for i in 2:n\n",
    "        x = f(x)\n",
    "        orb[i] = x\n",
    "    end\n",
    "    return orb\n",
    "end"
   ]
  },
  {
   "cell_type": "markdown",
   "metadata": {},
   "source": [
    "Remark that this time I specified the type of the arguments of the function, i.e., the initial point is a `Float64`,\n",
    "and the orbit is stored as an array of `Float64`."
   ]
  },
  {
   "cell_type": "markdown",
   "metadata": {},
   "source": [
    "We compute an orbit of length $100$ for the point $x=0.1$."
   ]
  },
  {
   "cell_type": "code",
   "execution_count": null,
   "metadata": {},
   "outputs": [],
   "source": [
    "v100 = orbit_float(f, 0.1, 100)"
   ]
  },
  {
   "cell_type": "markdown",
   "metadata": {},
   "source": [
    "The following is a Time Series plot of the orbit of the point $0.1$ under the action of the dynamics."
   ]
  },
  {
   "cell_type": "code",
   "execution_count": null,
   "metadata": {},
   "outputs": [],
   "source": [
    "plot(v100, markershape = :circle, markersize = 3, label = \"\")"
   ]
  },
  {
   "cell_type": "markdown",
   "metadata": {},
   "source": [
    "## Generic code"
   ]
  },
  {
   "cell_type": "markdown",
   "metadata": {},
   "source": [
    "We are interested now in changing the type of the inital point, to a multiprecision floating point number."
   ]
  },
  {
   "cell_type": "code",
   "execution_count": null,
   "metadata": {},
   "outputs": [],
   "source": [
    "function orbit_mpfr(f, x::BigFloat, n::Int64)\n",
    "    orb = Array{BigFloat, 1}(undef, n) #this declares an uninitialized vector\n",
    "    orb[1] = x\n",
    "    for i in 2:n\n",
    "        x = f(x)\n",
    "        orb[i] = x\n",
    "    end\n",
    "    return orb\n",
    "end"
   ]
  },
  {
   "cell_type": "markdown",
   "metadata": {},
   "source": [
    "If we compare the two functions, they are essentially the same: the only point where we use the type of the initial point `x` is to decide the type of the element of the `orb` vector.\n",
    "The only thing that we really need is that the type of `x` and of the element of `orb` is the same.\n",
    "So, we can do the following and let the compiler take care of everything."
   ]
  },
  {
   "cell_type": "code",
   "execution_count": null,
   "metadata": {},
   "outputs": [],
   "source": [
    "function orbit(f, x, n)\n",
    "    v = Array{typeof(x), 1}(undef, n) #this declares an uninitialized vector\n",
    "    v[1] = x\n",
    "    for i in 2:n\n",
    "        x = f(x)\n",
    "        v[i] = x\n",
    "    end\n",
    "    return v\n",
    "end"
   ]
  },
  {
   "cell_type": "markdown",
   "metadata": {},
   "source": [
    "The code I wrote above is generic; indeed, if I change the type of the x point, the code once with Float64 and run again but with a different type the compiler will compile it for this new type. Here I compute the orbit of the same point, but using higher precision Floating Point numbers, that Julia calls BigFloats and rely on the MPFR library."
   ]
  },
  {
   "cell_type": "code",
   "execution_count": null,
   "metadata": {},
   "outputs": [],
   "source": [
    "v2000 = orbit(f, 0.1, 2000)"
   ]
  },
  {
   "cell_type": "markdown",
   "metadata": {},
   "source": [
    "We can run the same function, with multiple precision floating points."
   ]
  },
  {
   "cell_type": "code",
   "execution_count": null,
   "metadata": {},
   "outputs": [],
   "source": [
    "v2000 = orbit(f, BigFloat(0.1), 2000)"
   ]
  },
  {
   "cell_type": "code",
   "execution_count": null,
   "metadata": {},
   "outputs": [],
   "source": [
    "plot(v2000[1:100], markershape = :circle, markersize = 3, label = \"\")"
   ]
  },
  {
   "cell_type": "markdown",
   "metadata": {},
   "source": [
    "Let's take a closer look to how I implemented the code; the important line is the following\n",
    "\n",
    "```v = Array{typeof(x), 1}(undef, n)```\n",
    "\n",
    "the Array type is a classical array, as we usually see in C, C++, Fortran.\n",
    "This is a parametric type and what is written inside __{__ and __}__ are the parameters of this type.\n",
    "This is going to be an array of elements which have the same type as $x$ of dimension 1.\n",
    "\n",
    "Inside __(__ and __)__ are the arguments of the function:\n",
    "- undef tells us that the Array is going to be uninitialized\n",
    "- n is the length of the array"
   ]
  },
  {
   "cell_type": "code",
   "execution_count": null,
   "metadata": {},
   "outputs": [],
   "source": [
    "z = Array{Int64, 1}(undef, 10) #remark that it is uninitialized, so it contains garbage!!! Be careful!"
   ]
  },
  {
   "cell_type": "code",
   "execution_count": null,
   "metadata": {},
   "outputs": [],
   "source": [
    "z = zeros(Int64, 10) # initializes the array to 0"
   ]
  },
  {
   "cell_type": "code",
   "execution_count": null,
   "metadata": {},
   "outputs": [],
   "source": [
    "z = ones(Int64, 10) # initializes the array to 1"
   ]
  },
  {
   "cell_type": "markdown",
   "metadata": {},
   "source": [
    "If we want to initalize and array to a specific value, we use the function fill. I will print on screen the documentation thorugh the use of Julia help."
   ]
  },
  {
   "cell_type": "code",
   "execution_count": null,
   "metadata": {},
   "outputs": [],
   "source": [
    "@doc fill"
   ]
  },
  {
   "cell_type": "code",
   "execution_count": null,
   "metadata": {},
   "outputs": [],
   "source": [
    "fill(3, 10) # this one fills an array with the first argument, the type of the Array is inferred from the value"
   ]
  },
  {
   "cell_type": "markdown",
   "metadata": {},
   "source": [
    "As you can see, this allows us for a lot of flexibility in writing code. My code above also works for Rational numbers."
   ]
  },
  {
   "cell_type": "code",
   "execution_count": null,
   "metadata": {},
   "outputs": [],
   "source": [
    "1//7 #this is the rational 1/7"
   ]
  },
  {
   "cell_type": "code",
   "execution_count": null,
   "metadata": {},
   "outputs": [],
   "source": [
    "orbit(f, 1//10, 5) # we don't take an orbit of length 10 because it gives an overflow in Int64"
   ]
  },
  {
   "cell_type": "code",
   "execution_count": null,
   "metadata": {},
   "outputs": [],
   "source": [
    "orbit(f, BigInt(1)//BigInt(10), 10)"
   ]
  },
  {
   "cell_type": "markdown",
   "metadata": {},
   "source": [
    "If you look back at all the examples in which we computed the orbit, the output contains the type of the elements of the array.\n",
    "\n",
    "In the last one, the output is of type:\n",
    "```10-element Vector{Rational{BigInt}}:```"
   ]
  },
  {
   "cell_type": "markdown",
   "metadata": {},
   "source": [
    "## Vectorizing the functions"
   ]
  },
  {
   "cell_type": "markdown",
   "metadata": {},
   "source": [
    "Another interesting possibility is the possibility of vectorizing the functions, using the __.__ before the arguments of the functions."
   ]
  },
  {
   "cell_type": "code",
   "execution_count": null,
   "metadata": {},
   "outputs": [],
   "source": [
    "@doc rand"
   ]
  },
  {
   "cell_type": "code",
   "execution_count": null,
   "metadata": {},
   "outputs": [],
   "source": [
    "x = rand(10) # I take 10 random initial points\n",
    "orbit.(f, x, 10) # this is going to compute the orbits for these ten points"
   ]
  },
  {
   "cell_type": "markdown",
   "metadata": {},
   "source": [
    "Suppose now that we want to write a specialized version of the orbit function that returns, instead of an array of arrays a matrix, when we feed it a vector of initial conditions.\n",
    "\n",
    "To do so, we specialize one of the arguments, i.e., we tell to the compiler that when x is of type \n",
    "```Vector{Float64}``` (which is the same as ```Array{Float64, 1}```) we want this specific version of the function orbit to be run.\n",
    "The compiler is smart, and is going to choose the most specific version of the function."
   ]
  },
  {
   "cell_type": "code",
   "execution_count": null,
   "metadata": {},
   "outputs": [],
   "source": [
    "function orbit(f, x::Vector{Float64}, n)\n",
    "    k = length(x)\n",
    "    v = Array{Float64, 2}(undef, (n, k)) \n",
    "    v[1, :] = x\n",
    "    for i in 2:n\n",
    "        x = f.(x)\n",
    "        v[i, :] = x\n",
    "    end\n",
    "    return v\n",
    "end"
   ]
  },
  {
   "cell_type": "code",
   "execution_count": null,
   "metadata": {},
   "outputs": [],
   "source": [
    "@which orbit(f, 0.1, 10)"
   ]
  },
  {
   "cell_type": "code",
   "execution_count": null,
   "metadata": {},
   "outputs": [],
   "source": [
    "@which orbit(f, [0.1, 0.2], 10)"
   ]
  },
  {
   "cell_type": "code",
   "execution_count": null,
   "metadata": {},
   "outputs": [],
   "source": [
    "using Random\n",
    "orbit(f, rand(MersenneTwister(0), 10), 10)"
   ]
  },
  {
   "cell_type": "markdown",
   "metadata": {},
   "source": [
    "The compiler is calling different implementations of the function, depending on the type of the arguments.\n",
    "We will compute the orbit of ten random initial conditions."
   ]
  },
  {
   "cell_type": "markdown",
   "metadata": {},
   "source": [
    "The next issue is how we can make the function orbit for a vector more generic, to work with generic types. To do so we will use parametric functions. The function will depend from a parameter, that has to be known at compile time, as the type of the element of our Vector, or the number of its indices (called its dimension)."
   ]
  },
  {
   "cell_type": "code",
   "execution_count": null,
   "metadata": {},
   "outputs": [],
   "source": [
    "function orbit(f, x::Vector{T}, n) where {T} # this where T means that this is a parametric type\n",
    "    k = length(x)\n",
    "    v = Array{T, 2}(undef, (n, k)) \n",
    "    v[1, :] = x\n",
    "    for i in 2:n\n",
    "        x = f.(x)\n",
    "        v[i, :] = x\n",
    "    end\n",
    "    return v\n",
    "end"
   ]
  },
  {
   "cell_type": "markdown",
   "metadata": {},
   "source": [
    "Now this works for BigFloat."
   ]
  },
  {
   "cell_type": "code",
   "execution_count": null,
   "metadata": {},
   "outputs": [],
   "source": [
    "v = orbit(f, 0.5 .+ 0.01*rand(BigFloat, 20), 15); #the semicomma disables the output"
   ]
  },
  {
   "cell_type": "code",
   "execution_count": null,
   "metadata": {},
   "outputs": [],
   "source": [
    "plot(v, label = \"\")"
   ]
  },
  {
   "cell_type": "markdown",
   "metadata": {},
   "source": [
    "#### Exercise 4 \n",
    "Fill in the missing part in the following function, which is a further generalization of orbit, where we can give as an input a matrix or an $N$-index array of initial points and it returns an $N+1$-index array of orbits.\n",
    "Substitute $\\Omega$ for the right expression involving $N$.  "
   ]
  },
  {
   "cell_type": "code",
   "execution_count": null,
   "metadata": {},
   "outputs": [],
   "source": [
    "# this function returns a tuple of (: , :, :, :, ...) that we are going to use to access all the information\n",
    "# in the multiindex below\n",
    "fill_colon(N) = ntuple(x-> :, N)\n",
    "\n",
    "function orbit(f, x::Array{T, N}, n) where {T, N} # now also N is a parameter\n",
    "    k = size(x)\n",
    "    v = Array{T, Ω}(undef, (n, k...)) # substitute Ω for an expression with N\n",
    "    \n",
    "    l = fill_colon(N) \n",
    "    v[1, l...] = x # the ... notation means we are taking the tuple and filling in as argument 2,..., N+1\n",
    "                    # of the multiindex\n",
    "    for i in 2:n\n",
    "        x = f.(x)\n",
    "        v[i, l...] = x\n",
    "    end\n",
    "    return v\n",
    "end"
   ]
  },
  {
   "cell_type": "markdown",
   "metadata": {},
   "source": [
    "Now test it here!"
   ]
  },
  {
   "cell_type": "code",
   "execution_count": null,
   "metadata": {},
   "outputs": [],
   "source": [
    "orbit(f, rand(BigFloat, (10, 10)), 20)"
   ]
  },
  {
   "cell_type": "markdown",
   "metadata": {},
   "source": [
    "### Appendix 1: Floating point numbers\n",
    "The functions [bitstring](https://docs.julialang.org/en/v1/base/numbers/#Base.bitstring), [nextfloat](https://docs.julialang.org/en/v1/base/numbers/#Base.nextfloat), [prevfloat](https://docs.julialang.org/en/v1/base/numbers/#Base.prevfloat) can be used to explore the structure of the floating point numbers.\n",
    "The behavior of floating point numbers is delicate, I recommend this beautiful article [What Every Computer Scientist\n",
    "Should Know About Floating Point\n",
    "Arithmetic](https://docs.oracle.com/cd/E19957-01/800-7895/800-7895.pdf)"
   ]
  },
  {
   "cell_type": "markdown",
   "metadata": {},
   "source": [
    "A Float64 number is a sequence of $64$ bits, whose first bit represents the sign $s$, the successive $11$ digits represent a binary number $e$, called the exponent, and the remaining $52$ bits $(d_{52}, \\ldots, d_0)$ are the so called mantissa $m$, and represent a binary number of the form \n",
    "$$\n",
    "1+\\sum_{i=1}^{52}d_{52-i}\\frac{1}{2^{i}}\n",
    "$$\n",
    "\n",
    "The number is then represented as \n",
    "$$\n",
    "(-1)^{s}\\cdot 2^{e-1023}\\cdot m\n",
    "$$"
   ]
  },
  {
   "cell_type": "code",
   "execution_count": null,
   "metadata": {},
   "outputs": [],
   "source": [
    "y = 1.0\n",
    "bs = bitstring(y)"
   ]
  },
  {
   "cell_type": "code",
   "execution_count": null,
   "metadata": {},
   "outputs": [],
   "source": [
    "s = parse(Int, \"$(bs[1])\"; base=2)"
   ]
  },
  {
   "cell_type": "markdown",
   "metadata": {},
   "source": [
    "We parse the exponent part of the bitstring."
   ]
  },
  {
   "cell_type": "code",
   "execution_count": null,
   "metadata": {},
   "outputs": [],
   "source": [
    "e = parse(Int, \"$(bs[2:12])\"; base=2)"
   ]
  },
  {
   "cell_type": "markdown",
   "metadata": {},
   "source": [
    "We parse now the mantissa part."
   ]
  },
  {
   "cell_type": "code",
   "execution_count": null,
   "metadata": {},
   "outputs": [],
   "source": [
    "m = 1+parse(Int, \"$(bs[13:end])\"; base=2)*2^(-52)"
   ]
  },
  {
   "cell_type": "markdown",
   "metadata": {},
   "source": [
    "We can now reconstruct our number, i.e.,"
   ]
  },
  {
   "cell_type": "code",
   "execution_count": null,
   "metadata": {},
   "outputs": [],
   "source": [
    "(-1)^s*2.0^(e-1023)*m"
   ]
  },
  {
   "cell_type": "markdown",
   "metadata": {},
   "source": [
    "We observe now what happens when we take the next floating point number."
   ]
  },
  {
   "cell_type": "code",
   "execution_count": null,
   "metadata": {},
   "outputs": [],
   "source": [
    "bitstring(nextfloat(y))"
   ]
  },
  {
   "cell_type": "code",
   "execution_count": null,
   "metadata": {},
   "outputs": [],
   "source": [
    "nextfloat(y)"
   ]
  },
  {
   "cell_type": "markdown",
   "metadata": {},
   "source": [
    "Remark that Floating point numbers are few: it is important to recall that numerical computations involve rounding, so to make them mathematically rigorous we need to use tools as [Interval Arithmetic](https://www.amazon.com/Validated-Numerics-Introduction-Rigorous-Computations/dp/069124765X) (this is a link to the book by Prof. Tucker)."
   ]
  },
  {
   "cell_type": "code",
   "execution_count": null,
   "metadata": {},
   "outputs": [],
   "source": [
    "bitstring(prevfloat(y))"
   ]
  },
  {
   "cell_type": "code",
   "execution_count": null,
   "metadata": {},
   "outputs": [],
   "source": [
    "bitstring(prevfloat(-y))"
   ]
  },
  {
   "cell_type": "markdown",
   "metadata": {},
   "source": [
    "It is important to understand how Julia treats mixed operations, i.e., operations between a Float and an Integer. \n",
    "\n",
    "In Julia, types are a fundamental object of the language, it is possible to operate on them and create a hierarchy of types, establish convertion and promotion rules. In the case of an Int64 and a Float64 Point, the two numbers are considered Real Numbers, so Julia converts the Int64 to a Float64."
   ]
  },
  {
   "cell_type": "code",
   "execution_count": null,
   "metadata": {},
   "outputs": [],
   "source": [
    "x  = 1\n",
    "@info typeof(x)\n",
    "y  = 1.0 \n",
    "@info typeof(y)\n",
    "\n",
    "z = x + y # Julia automatically promotes the Int64 type to a Float64 type, to make sense of this operation\n",
    "println(z)\n",
    "println(typeof(z))\n"
   ]
  },
  {
   "cell_type": "code",
   "execution_count": null,
   "metadata": {},
   "outputs": [],
   "source": [
    "@code_lowered x+y"
   ]
  },
  {
   "cell_type": "code",
   "execution_count": null,
   "metadata": {},
   "outputs": [],
   "source": [
    "@doc promote"
   ]
  },
  {
   "cell_type": "code",
   "execution_count": null,
   "metadata": {},
   "outputs": [],
   "source": [
    "@less promote(x, y)"
   ]
  },
  {
   "cell_type": "code",
   "execution_count": null,
   "metadata": {},
   "outputs": [],
   "source": [
    "supertypes(Float64)"
   ]
  },
  {
   "cell_type": "code",
   "execution_count": null,
   "metadata": {},
   "outputs": [],
   "source": [
    "supertypes(Int64)"
   ]
  },
  {
   "cell_type": "code",
   "execution_count": null,
   "metadata": {},
   "outputs": [],
   "source": [
    "# we can also create variables with explicit types\n",
    "x = BigFloat(\"0.1\") # these are MPFR high precision numbers\n",
    "println(x)"
   ]
  },
  {
   "cell_type": "code",
   "execution_count": null,
   "metadata": {},
   "outputs": [],
   "source": [
    "println(typeof(x))"
   ]
  },
  {
   "cell_type": "code",
   "execution_count": null,
   "metadata": {},
   "outputs": [],
   "source": [
    "println(precision(x)) #get the precision in bit of the mantissa of x"
   ]
  },
  {
   "cell_type": "markdown",
   "metadata": {},
   "source": [
    "It is important to observe that $0.1$ has no exact representation in base $2$ floating point arithmetic.\n",
    "If needed, in the REPL, the documentation is obtained by prepending a `@doc` to the name of a function: we are interested in the function setprecision"
   ]
  },
  {
   "cell_type": "code",
   "execution_count": null,
   "metadata": {},
   "outputs": [],
   "source": [
    "@doc setprecision"
   ]
  },
  {
   "cell_type": "code",
   "execution_count": null,
   "metadata": {},
   "outputs": [],
   "source": [
    "setprecision(BigFloat, 1024) # if you run a cell, the output of the last line is given by the cell\n",
    "y = BigFloat(\"1.0\") # these are MPFR high precision numbers\n",
    "println(y)\n",
    "println(typeof(y))\n",
    "println(precision(y)) #get the precision in bit of the mantissa of x"
   ]
  },
  {
   "cell_type": "code",
   "execution_count": null,
   "metadata": {},
   "outputs": [],
   "source": [
    "z = x+y\n",
    "precision(z) \n",
    "# the output of the last line is given by the cell, here Julia took care of promoting the type \n",
    "# to guarantee no precision loss"
   ]
  },
  {
   "cell_type": "code",
   "execution_count": null,
   "metadata": {},
   "outputs": [],
   "source": [
    "x = Float64(π) # to write π, I wrote \\pi and pressed the tab key; using this Unicode character\n",
    "#tells Julia to compute the constant adequate for the type precision\n",
    "x = BigFloat(π) "
   ]
  },
  {
   "cell_type": "code",
   "execution_count": null,
   "metadata": {},
   "outputs": [],
   "source": [
    "@code_native 1.0+1.0"
   ]
  },
  {
   "cell_type": "code",
   "execution_count": null,
   "metadata": {},
   "outputs": [],
   "source": [
    "@code_native big\"0.1\"+big\"0.1\""
   ]
  },
  {
   "cell_type": "markdown",
   "metadata": {},
   "source": [
    "#### Exercise 2:\n",
    "Create two variables x and y, of type Float64 and type BigFloat respectively, both with value $\\pi$.\n",
    "Compute x-y."
   ]
  },
  {
   "cell_type": "markdown",
   "metadata": {},
   "source": [
    "### Appendix 2: Structures and types in Julia\n",
    "It is possible to declare composite types in Julia. \n"
   ]
  },
  {
   "cell_type": "code",
   "execution_count": null,
   "metadata": {},
   "outputs": [],
   "source": [
    "struct WorldCoordinate\n",
    "    latitude\n",
    "    longitude\n",
    "    timezone\n",
    "end"
   ]
  },
  {
   "cell_type": "code",
   "execution_count": null,
   "metadata": {},
   "outputs": [],
   "source": [
    "RJ = WorldCoordinate(-22.9, -43.19, \"GMT-3\")"
   ]
  },
  {
   "cell_type": "code",
   "execution_count": null,
   "metadata": {},
   "outputs": [],
   "source": [
    "RJ.latitude # remark that pressing tab you get autocompletion "
   ]
  },
  {
   "cell_type": "code",
   "execution_count": null,
   "metadata": {},
   "outputs": [],
   "source": [
    "RJ.timezone"
   ]
  },
  {
   "cell_type": "markdown",
   "metadata": {},
   "source": [
    "Suppose now that we know how to compute a timezone from coordinates (without worrying about the real timezone lines, which are complicated and daylight saving time)."
   ]
  },
  {
   "cell_type": "code",
   "execution_count": null,
   "metadata": {},
   "outputs": [],
   "source": [
    "function timezone(latitude, longitude)  \n",
    "    val = Int64(floor(longitude/15))\n",
    "    if val<0\n",
    "        val = abs(val)\n",
    "        return \"GMT-$val\" #the $ symbol makes $val be substituted by val\n",
    "    elseif val>0\n",
    "        return \"GMT+$val\"\n",
    "    else\n",
    "        return \"GMT-0\"\n",
    "    end\n",
    "end"
   ]
  },
  {
   "cell_type": "markdown",
   "metadata": {},
   "source": [
    "We can now define a new constructor for the object."
   ]
  },
  {
   "cell_type": "code",
   "execution_count": null,
   "metadata": {},
   "outputs": [],
   "source": [
    "WorldCoordinate(a, b) = WorldCoordinate(a, b, timezone(a, b))"
   ]
  },
  {
   "cell_type": "code",
   "execution_count": null,
   "metadata": {},
   "outputs": [],
   "source": [
    "WorldCoordinate(-22, -43) #this returns the object as above, but computes some of its attributes automatically"
   ]
  },
  {
   "cell_type": "markdown",
   "metadata": {},
   "source": [
    "## Appendix 3: Writing performant code: some notions about variables"
   ]
  },
  {
   "cell_type": "markdown",
   "metadata": {},
   "source": [
    "We can also specify the type of a variable when we declare it, this helps the compiler infer the right functions and may speed up the code (this requires a version of Julia more recent than 1.8.0).\n",
    "\n",
    "The reason why this may be necessary is that when using a jupyter notebook (or an interactive programming style), often we define variables in a global scope.\n",
    "When running the code the compiler need to produce generic code that works for all types, and so the code is slow."
   ]
  },
  {
   "cell_type": "code",
   "execution_count": null,
   "metadata": {},
   "outputs": [],
   "source": [
    "x_int::Int64 = 32 "
   ]
  },
  {
   "cell_type": "markdown",
   "metadata": {},
   "source": [
    "I will present three examples, that show how, knowing some information about the types, Julia can speed up a computation in a significant way.\n",
    "This example is taken from [Blog by Bogumił Kamiński - Why do I use main function in my Julia scripts?](https://bkamins.github.io/julialang/2022/07/15/main.html)\n"
   ]
  },
  {
   "cell_type": "markdown",
   "metadata": {},
   "source": [
    "In the first example, we do not give any hint about the types."
   ]
  },
  {
   "cell_type": "code",
   "execution_count": null,
   "metadata": {},
   "outputs": [],
   "source": [
    "s = 0 \n",
    "@time for i in 1:10^8\n",
    "    s+=i\n",
    "end"
   ]
  },
  {
   "cell_type": "markdown",
   "metadata": {},
   "source": [
    "In the second example we give informations about the type of the variable that we are using to accumulate the sum."
   ]
  },
  {
   "cell_type": "code",
   "execution_count": null,
   "metadata": {},
   "outputs": [],
   "source": [
    "s_int::Int64 = 0\n",
    "@time for i in 1:10^8\n",
    "    s_int+=i\n",
    "end"
   ]
  },
  {
   "cell_type": "markdown",
   "metadata": {},
   "source": [
    "In the third example, we put the computation inside a function, in this case the compiler knows the scope of life of each variable and, given these boundary conditions, can optimize the code.\n",
    "He check that due to how the function is defined, `s` is and integer and all the operation are integer operations and there are no other possibilities, so he can compile an optimized version of the function (the loop also has a constant length, known at compile time, so he can optimize it a lot)."
   ]
  },
  {
   "cell_type": "code",
   "execution_count": null,
   "metadata": {},
   "outputs": [],
   "source": [
    "function inside_function()\n",
    "    s = 0\n",
    "    for i in 1:10^8\n",
    "        s += i\n",
    "    end\n",
    "    return s\n",
    "end\n",
    "\n",
    "@time inside_function()"
   ]
  },
  {
   "cell_type": "code",
   "execution_count": null,
   "metadata": {},
   "outputs": [],
   "source": [
    "@code_warntype inside_function()"
   ]
  },
  {
   "cell_type": "markdown",
   "metadata": {},
   "source": [
    "We can check what is the code generated by the compiler in this case: remark that the compiler has a lot of information at compile time."
   ]
  },
  {
   "cell_type": "code",
   "execution_count": null,
   "metadata": {},
   "outputs": [],
   "source": [
    "@code_llvm inside_function()"
   ]
  },
  {
   "cell_type": "markdown",
   "metadata": {},
   "source": [
    "The compiler was so smart that he saw that the return value of the function could be determined at compilation time, so the actual compiled version of the function is nothing else than \n",
    "`inside_function() = 5000000050000000`."
   ]
  },
  {
   "cell_type": "markdown",
   "metadata": {},
   "source": [
    "If you want to have better informations on the timing of the function, there is a package called BenchmarkTools, that allows to get better estimates on the running time of a function (it runs it many times, then averages the time)."
   ]
  },
  {
   "cell_type": "code",
   "execution_count": null,
   "metadata": {},
   "outputs": [],
   "source": [
    "import Pkg; Pkg.add(\"BenchmarkTools\")\n",
    "using BenchmarkTools"
   ]
  },
  {
   "cell_type": "code",
   "execution_count": null,
   "metadata": {},
   "outputs": [],
   "source": [
    "@btime inside_function()"
   ]
  },
  {
   "cell_type": "markdown",
   "metadata": {},
   "source": [
    "The functions runs in less than two nanosecond: the compiler was smart enough to identify that the end result was constant and substituted the function by a constant at compile time."
   ]
  },
  {
   "cell_type": "markdown",
   "metadata": {},
   "source": [
    "We will come back to how to define functions, but I think it is important to understand that a lot of the ideas behind writing fast code in Julia depend on giving the right hints to the compiler.\n",
    "In other words, the compiler is really smart, but everybody needs some help sometimes.\n",
    "\n",
    "What is important to remember is:\n",
    "**Try to avoid global variables, and if performance is important, write functions**\n",
    "\n",
    "As a good practice, it is good to encapsulate code in functions."
   ]
  },
  {
   "cell_type": "markdown",
   "metadata": {},
   "source": [
    "## Appendix 4: Cobweb plots"
   ]
  },
  {
   "cell_type": "markdown",
   "metadata": {},
   "source": [
    "We want to implement a simple cobweb plot of the orbit of a point;\n",
    "i.e., given a point $(x_0, 0)$ we want to plot a line to $(x_0, f(x_0))$,\n",
    "a line to $(f(x_0), f(x_0))$ and a line to $(f(x_0), f^2(x_0))$ and so on."
   ]
  },
  {
   "cell_type": "code",
   "execution_count": null,
   "metadata": {},
   "outputs": [],
   "source": [
    "f(x) = 3.83*x*(1-x)"
   ]
  },
  {
   "cell_type": "code",
   "execution_count": null,
   "metadata": {},
   "outputs": [],
   "source": [
    "function orbit(f, x, n)\n",
    "    v = Array{typeof(x), 1}(undef, n) #this declares an uninitialized vector\n",
    "    v[1] = x\n",
    "    for i in 2:n\n",
    "        x = f(x)\n",
    "        v[i] = x\n",
    "    end\n",
    "    return v\n",
    "end"
   ]
  },
  {
   "cell_type": "code",
   "execution_count": null,
   "metadata": {},
   "outputs": [],
   "source": [
    "using Plots"
   ]
  },
  {
   "cell_type": "code",
   "execution_count": null,
   "metadata": {},
   "outputs": [],
   "source": [
    "orb = orbit(f, 0.1, 1000)"
   ]
  },
  {
   "cell_type": "code",
   "execution_count": null,
   "metadata": {},
   "outputs": [],
   "source": [
    "x_val = []\n",
    "y_val = []\n",
    "\n",
    "x_old = orb[1]\n",
    "y_old = 0.0\n",
    "\n",
    "push!(x_val, x_old)\n",
    "push!(y_val, y_old)\n",
    "y_old = x_old\n",
    "\n",
    "for x in orb\n",
    "    push!(x_val, y_old)\n",
    "    push!(y_val, y_old)\n",
    "    push!(x_val, y_old) # this is the point (x_old, f(x_old))\n",
    "    push!(y_val, x)\n",
    "    push!(x_val, x) # this is the point (f(x_old), f(x_old))\n",
    "    push!(y_val, x)\n",
    "    y_old = x\n",
    "end"
   ]
  },
  {
   "cell_type": "code",
   "execution_count": null,
   "metadata": {},
   "outputs": [],
   "source": [
    "plot(f, 0, 1, label = \"f\", color = :blue)"
   ]
  },
  {
   "cell_type": "code",
   "execution_count": null,
   "metadata": {},
   "outputs": [],
   "source": [
    "plot!(x->x, 0, 1, color = :blue, label = \"\")"
   ]
  },
  {
   "cell_type": "code",
   "execution_count": null,
   "metadata": {},
   "outputs": [],
   "source": [
    "plot!(x_val, y_val, color = :red, label = \"\")"
   ]
  },
  {
   "cell_type": "markdown",
   "metadata": {},
   "source": [
    "## Appendix 5: Bifurcation diagram"
   ]
  },
  {
   "cell_type": "markdown",
   "metadata": {},
   "source": [
    "We will plot now the bifurcation diagram for the quadratic family."
   ]
  },
  {
   "cell_type": "code",
   "execution_count": null,
   "metadata": {},
   "outputs": [],
   "source": [
    "function orbit_with_transient(f, x, n; transient = 9*n)\n",
    "    \n",
    "    for i in 1:transient\n",
    "        x = f(x)\n",
    "    end\n",
    "    \n",
    "    \n",
    "    v = Array{typeof(x), 1}(undef, n) #this declares an uninitialized vector\n",
    "    v[1] = x\n",
    "    for i in 2:n\n",
    "        x = f(x)\n",
    "        v[i] = x\n",
    "    end\n",
    "    return v\n",
    "end"
   ]
  },
  {
   "cell_type": "code",
   "execution_count": null,
   "metadata": {},
   "outputs": [],
   "source": [
    "dyn(a, x) = a*x*(1-x)"
   ]
  },
  {
   "cell_type": "code",
   "execution_count": null,
   "metadata": {},
   "outputs": [],
   "source": [
    "parameters = 0:0.01:4"
   ]
  },
  {
   "cell_type": "code",
   "execution_count": null,
   "metadata": {},
   "outputs": [],
   "source": [
    "plt = plot()\n",
    "\n",
    "for a in parameters\n",
    "    orb = orbit_with_transient(x->dyn(a, x), 0.5, 100)\n",
    "    plt = scatter!(plt, fill(a, 1000), orb, label = \"\", markersize = 0.1)\n",
    "end\n",
    "xlims!(plt, 0, 4)\n",
    "ylims!(plt, 0, 1)"
   ]
  }
 ],
 "metadata": {
  "kernelspec": {
   "display_name": "Julia 1.9.2",
   "language": "julia",
   "name": "julia-1.9"
  },
  "language_info": {
   "file_extension": ".jl",
   "mimetype": "application/julia",
   "name": "julia",
   "version": "1.9.2"
  }
 },
 "nbformat": 4,
 "nbformat_minor": 4
}
