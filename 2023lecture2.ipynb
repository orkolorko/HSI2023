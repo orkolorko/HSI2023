{
 "cells": [
  {
   "cell_type": "markdown",
   "metadata": {},
   "source": [
    "# Numerical experiments in ergodic theory"
   ]
  },
  {
   "cell_type": "markdown",
   "metadata": {},
   "source": [
    "## Why we call this Numerical Experiments\n",
    "\n",
    "These are called numerical experiments, since, due to the finite nature of floating point arithmetic, the behavior of the discretized map and of the abstract dynamical system may be different.\n",
    "\n",
    "There are many articles that deal with this topic, as:\n",
    "- [Lanford, Oscar E., III Informal remarks on the orbit structure of discrete approximations to chaotic maps](https://people.math.harvard.edu/~knill/history/lanford/papers/LanfordOrbit.pdf)\n",
    "- [Guineheuf-Monge Discrepancy and discretizations of circle expanding maps I: theory](https://arxiv.org/abs/2206.07991)\n",
    "- [Guineheuf-Monge Discrepancy and discretizations of circle expanding maps II: simulations](https://arxiv.org/abs/2206.08000)\n",
    "- [Galatolo-N-Rojas Probability, statistics and computation in dynamical systems](https://www.cambridge.org/core/journals/mathematical-structures-in-computer-science/article/abs/probability-statistics-and-computation-in-dynamical-systems/E20AF291F13006D356DD854F500A1853)\n",
    "\n",
    "At the end, we will present an example, the BZ map from\n",
    "- [Matsumoto-Tsuda, Noise Induced Order](https://link.springer.com/article/10.1007/BF01010923)\n",
    "the first known example of Noise Induced Order."
   ]
  },
  {
   "cell_type": "markdown",
   "metadata": {},
   "source": [
    "## Birkhoff sums"
   ]
  },
  {
   "cell_type": "markdown",
   "metadata": {},
   "source": [
    "We will implement now some numerical experiments dealing with computing finite time numerical approximation of Birkhoff averages, i.e., given an observable $\\phi$, an initial condition $x_0$, and a time $N$ we compute\n",
    "$$\n",
    "A_N \\phi(x_0) = \\frac{1}{N}\\sum_{i=0}^{N-1} \\phi(T^i(x_0))\n",
    "$$"
   ]
  },
  {
   "cell_type": "code",
   "execution_count": null,
   "metadata": {},
   "outputs": [],
   "source": [
    "function orbit(f, x, n)\n",
    "    v = Array{typeof(x), 1}(undef, n) #this declares an uninitialized vector\n",
    "    v[1] = x\n",
    "    for i in 2:n\n",
    "        x = f(x)\n",
    "        v[i] = x\n",
    "    end\n",
    "    return v\n",
    "end\n",
    "\n",
    "function orbit(f, x::Vector{T}, n) where {T} # this where T means that this is a parametric type\n",
    "    k = length(x)\n",
    "    v = Array{T, 2}(undef, (n, k)) \n",
    "    v[1, :] = x\n",
    "    for i in 2:n\n",
    "        x = f.(x)\n",
    "        v[i, :] = x\n",
    "    end\n",
    "    return v\n",
    "end"
   ]
  },
  {
   "cell_type": "code",
   "execution_count": null,
   "metadata": {},
   "outputs": [],
   "source": [
    "f(x) = 4*x*(1-x)"
   ]
  },
  {
   "cell_type": "markdown",
   "metadata": {},
   "source": [
    "The following is an histogram plot for the distribution of first $2000$ iterates of the orbit of the point $0.1$\n",
    "under the action of the dynamic, compared to the invariant density of the map, which is known explictly \n",
    "to be\n",
    "$$\n",
    "f(x)=\\frac{1}{\\pi\\sqrt{x(1-x)}}\n",
    "$$\n",
    "    "
   ]
  },
  {
   "cell_type": "code",
   "execution_count": null,
   "metadata": {},
   "outputs": [],
   "source": [
    "v2000 = orbit(f, BigFloat(0.1), 2000)"
   ]
  },
  {
   "cell_type": "code",
   "execution_count": null,
   "metadata": {},
   "outputs": [],
   "source": [
    "using Plots"
   ]
  },
  {
   "cell_type": "code",
   "execution_count": null,
   "metadata": {},
   "outputs": [],
   "source": [
    "histogram(v2000, bins = 20, normalize = true, label = \"Histogram plot\", color = :orange)\n",
    "plot!(x-> 1/(π*sqrt(x*(1-x))), color = :red, 0.005 , 0.995, linewidth = 3, label = \"Invariant density\" )"
   ]
  },
  {
   "cell_type": "markdown",
   "metadata": {},
   "source": [
    "The following animation shows how $1000$ uniformly distributed initial points distribute themselves under iteration of the map $f$. Doing animations is quite simple, what we do is to make a for cycle that generates plots, and use a Julia macro to decorate the code."
   ]
  },
  {
   "cell_type": "code",
   "execution_count": null,
   "metadata": {},
   "outputs": [],
   "source": [
    "@doc animate"
   ]
  },
  {
   "cell_type": "code",
   "execution_count": null,
   "metadata": {},
   "outputs": [],
   "source": [
    "v = orbit(f, 0.5 .+ 0.01*rand(100), 200)"
   ]
  },
  {
   "cell_type": "code",
   "execution_count": null,
   "metadata": {},
   "outputs": [],
   "source": [
    "anim =  @animate for i in 1:200\n",
    "    histogram(v[i, :], bins = 40, label = \"$i\", normalize = true, xlims = (0, 1))\n",
    "end \n",
    "gif(anim, \"tutorial_anim_fps30.gif\", fps = 5)"
   ]
  },
  {
   "cell_type": "markdown",
   "metadata": {},
   "source": [
    "# Uniformly expanding maps"
   ]
  },
  {
   "cell_type": "markdown",
   "metadata": {},
   "source": [
    "We change the dynamic now into something uniformly expanding."
   ]
  },
  {
   "cell_type": "code",
   "execution_count": null,
   "metadata": {},
   "outputs": [],
   "source": [
    "g(x) = mod(2*x+0.1*sin(2*pi*x), 1)"
   ]
  },
  {
   "cell_type": "code",
   "execution_count": null,
   "metadata": {},
   "outputs": [],
   "source": [
    "plot(g, 0, 1)"
   ]
  },
  {
   "cell_type": "code",
   "execution_count": null,
   "metadata": {},
   "outputs": [],
   "source": [
    "v = orbit(g, rand(Float64, 1000), 400)"
   ]
  },
  {
   "cell_type": "code",
   "execution_count": null,
   "metadata": {},
   "outputs": [],
   "source": [
    "anim =  @animate for i in 1:400\n",
    "    histogram(v[i, :], bins = 40, label = \"$i\", normalize = true, ylims = (0, 1.5) )\n",
    "end \n",
    "gif(anim, \"tutorial_anim_fps30.gif\", fps = 5)"
   ]
  },
  {
   "cell_type": "markdown",
   "metadata": {},
   "source": [
    "So, up to know we have a way to compute the orbits, we want to compute some Birkhoff averages of some observables.\n",
    "Remark that the code I'm writing is storing a lot of objects in memory and can be made more efficient."
   ]
  },
  {
   "cell_type": "markdown",
   "metadata": {},
   "source": [
    "The empirical Birkhoff average along a orbit of length $N$ is\n",
    "$$\n",
    "\\frac{1}{N} \\sum_{i=0}^{N-1}\\phi(f^i(x))\n",
    "$$\n",
    "we will compute the Birkhoff averages for $1000$ starting points along orbits of length $400$."
   ]
  },
  {
   "cell_type": "code",
   "execution_count": null,
   "metadata": {},
   "outputs": [],
   "source": [
    "ϕ(x) = sin(x)+x^2 #ϕ is written by writing \\phi and pressing tab"
   ]
  },
  {
   "cell_type": "code",
   "execution_count": null,
   "metadata": {},
   "outputs": [],
   "source": [
    "function BirkhoffAverages(ϕ, v)\n",
    "    w = ϕ.(v) # we evaluate the observables on the orbit\n",
    "    k, n = size(w)\n",
    "    z = accumulate(+, w; dims = 1) # this computes the accumulated sums along columns \n",
    "    t = [x for x in 1:k]\n",
    "    z = z./t # we divide the first line by 1, the second by 2, the third by 3, etc...\n",
    "    return z\n",
    "end "
   ]
  },
  {
   "cell_type": "code",
   "execution_count": null,
   "metadata": {},
   "outputs": [],
   "source": [
    "z = BirkhoffAverages(ϕ, v)"
   ]
  },
  {
   "cell_type": "code",
   "execution_count": null,
   "metadata": {},
   "outputs": [],
   "source": [
    "anim = @animate for i in 1:400\n",
    "    histogram(z[i, :], bins = 40, label = \"$i\", xlims = (0.5, 1.1), ylims = (0, 10), normalize = true)\n",
    "end \n",
    "gif(anim, \"BirkhoffAverages.gif\", fps = 5)"
   ]
  },
  {
   "cell_type": "markdown",
   "metadata": {},
   "source": [
    "This animations shows the CLT in action for uniformly expanding maps. As $N$ grows the Birkhoff averages distribute as a Gaussian with average the Birkhoff average of the observable."
   ]
  },
  {
   "cell_type": "markdown",
   "metadata": {},
   "source": [
    "### Automatic Differentiation and computing the Lyapunov exponent"
   ]
  },
  {
   "cell_type": "markdown",
   "metadata": {},
   "source": [
    "The package DualNumbers permits us to compute automatically the derivatives of a function (Automatic Derivation, AD for short)."
   ]
  },
  {
   "cell_type": "code",
   "execution_count": null,
   "metadata": {},
   "outputs": [],
   "source": [
    "using Pkg;\n",
    "Pkg.add(\"DualNumbers\") # You will need to run this only once, to install the package"
   ]
  },
  {
   "cell_type": "code",
   "execution_count": null,
   "metadata": {},
   "outputs": [],
   "source": [
    "using DualNumbers # this brings the AD package into namespace"
   ]
  },
  {
   "cell_type": "markdown",
   "metadata": {},
   "source": [
    "A dual number is a number that consists of two components, called value and epsilon; we can think of a dual number as the \"jet\" of a function, i.e.,\n",
    "\n",
    "```Dual(0, 1.0)```\n",
    "\n",
    "can be thought of $0+x$ in a neighborhood of $0$. \n",
    "The relation between derivatives become therefore operators between dual numbers.\n",
    "$$(a+\\epsilon a')+(b+\\epsilon b') = a+b+\\epsilon (a'+b')$$\n",
    "$$(a+\\epsilon a')\\cdot (b+\\epsilon b') = a\\cdot b+\\epsilon (a\\cdot b'+a'\\cdot  b)$$\n",
    "\n",
    "Overloading the operators and the functions to work with Dual numbers allows us to compute automatically derivatives."
   ]
  },
  {
   "cell_type": "code",
   "execution_count": null,
   "metadata": {},
   "outputs": [],
   "source": [
    "x  = Dual(0.1, 1.0)"
   ]
  },
  {
   "cell_type": "code",
   "execution_count": null,
   "metadata": {},
   "outputs": [],
   "source": [
    "sin(x)"
   ]
  },
  {
   "cell_type": "code",
   "execution_count": null,
   "metadata": {},
   "outputs": [],
   "source": [
    "f(x)"
   ]
  },
  {
   "cell_type": "markdown",
   "metadata": {},
   "source": [
    "As you can see, the epsilon part is nothing else than $\\cos(0.1)=(\\sin)'(0.1)$.\n",
    "We will use this to define automatically $\\log(|T'|)$."
   ]
  },
  {
   "cell_type": "code",
   "execution_count": null,
   "metadata": {},
   "outputs": [],
   "source": [
    "ψ(x, h) = log(abs(h(Dual(x, 1)).epsilon))"
   ]
  },
  {
   "cell_type": "markdown",
   "metadata": {},
   "source": [
    "We will now specialize it to our dynamic."
   ]
  },
  {
   "cell_type": "code",
   "execution_count": null,
   "metadata": {},
   "outputs": [],
   "source": [
    "ϕ(x) = ψ(x, g)"
   ]
  },
  {
   "cell_type": "code",
   "execution_count": null,
   "metadata": {},
   "outputs": [],
   "source": [
    "z = BirkhoffAverages(ϕ, v)"
   ]
  },
  {
   "cell_type": "code",
   "execution_count": null,
   "metadata": {},
   "outputs": [],
   "source": [
    "anim = @animate for i in 1:400\n",
    "    histogram(z[i, :], bins = 40, label = \"$i\", xlims = (0.5, 0.9), ylims = (0, 50), normalize = true)\n",
    "end \n",
    "gif(anim, \"BirkhoffAverages.gif\", fps = 5)"
   ]
  },
  {
   "cell_type": "markdown",
   "metadata": {},
   "source": [
    "### Systems with noise"
   ]
  },
  {
   "cell_type": "markdown",
   "metadata": {},
   "source": [
    "We want now do similar computations for systems with additive noise, i.e., the iterated of the system\n",
    "are\n",
    "$$X_i = T(X_{i-1})+\\theta$$\n",
    "where $\\theta$ is a uniformly distributed random variable in $[-\\xi, \\xi]$.\n",
    "\n",
    "The system we are going to study is a family of one-dimensional systems on $[-1,1]$; please note that\n",
    "the noise could bring us outside $[-1, 1]$ so we need to set boundary conditions.\n",
    "We will set periodic boundary conditions.\n",
    "The following function applys the boundary conditions."
   ]
  },
  {
   "cell_type": "code",
   "execution_count": null,
   "metadata": {},
   "outputs": [],
   "source": [
    "function BC(x)\n",
    "    if x>1\n",
    "        return 1-(x-1)\n",
    "    elseif x<0 \n",
    "        return abs(x)\n",
    "    else \n",
    "        return x\n",
    "    end\n",
    "end"
   ]
  },
  {
   "cell_type": "code",
   "execution_count": null,
   "metadata": {},
   "outputs": [],
   "source": [
    "plot(BC, -3, 3)"
   ]
  },
  {
   "cell_type": "code",
   "execution_count": null,
   "metadata": {},
   "outputs": [],
   "source": [
    "function orbit_with_noise(f, x::Vector{T}, ξ, n) where {T} # this where T means that this is a parametric type\n",
    "    k = length(x)\n",
    "    v = Array{T, 2}(undef, (n, k)) \n",
    "    \n",
    "    v[1, :] = x\n",
    "    for i in 2:n\n",
    "        noise = ξ*(2*rand(T, k).-1.0)\n",
    "        #@info sum(noise)\n",
    "        x = BC.(f.(x)+noise)\n",
    "        v[i, :] = x\n",
    "    end\n",
    "    return v\n",
    "end"
   ]
  },
  {
   "cell_type": "markdown",
   "metadata": {},
   "source": [
    "We will now look at the dynamic of a classical map, the BZ-map."
   ]
  },
  {
   "cell_type": "code",
   "execution_count": null,
   "metadata": {},
   "outputs": [],
   "source": [
    "a_big = big\"0.5060735690368223513195993710530479569801417368282037493809901142182256388277859\"\n",
    "b_big = big\"0.02328852830307032054478158044023918735669943648088852646123182739831022528\"\n",
    "c_big = big\"0.121205692738975111744666848150620569782497212127938371936404761693002104361\"\n",
    "\n",
    "\n",
    "function BZ(x; T = Float64, a = T(a_big, RoundNearest), b = T(b_big, RoundNearest), c = T(c_big, RoundNearest))\n",
    "    if 0<=x<=1/8\n",
    "        return (a-abs(x-1/8)^(1/3))*exp(-x)+b\n",
    "    elseif 1/8<x<0.3\n",
    "        return (a+abs(x-1/8)^(1/3))*exp(-x)+b\n",
    "    else\n",
    "        return c*(10*x*exp((-10/3)*x))^(19)+b\n",
    "    end\n",
    "end"
   ]
  },
  {
   "cell_type": "code",
   "execution_count": null,
   "metadata": {},
   "outputs": [],
   "source": [
    "plot(BZ, 0, 1)"
   ]
  },
  {
   "cell_type": "code",
   "execution_count": null,
   "metadata": {},
   "outputs": [],
   "source": [
    "ξ = 0.873*10^(-4)/2\n",
    "\n",
    "v = orbit_with_noise(BZ, rand(Float64, 200), ξ, 100000);"
   ]
  },
  {
   "cell_type": "code",
   "execution_count": null,
   "metadata": {},
   "outputs": [],
   "source": [
    "histogram(v[end, :], bins = 40)"
   ]
  },
  {
   "cell_type": "code",
   "execution_count": null,
   "metadata": {},
   "outputs": [],
   "source": [
    "ϕ(x) = ψ(x, BZ) # log(|BZ'|)"
   ]
  },
  {
   "cell_type": "code",
   "execution_count": null,
   "metadata": {},
   "outputs": [],
   "source": [
    "z = BirkhoffAverages(ϕ, v)"
   ]
  },
  {
   "cell_type": "code",
   "execution_count": null,
   "metadata": {},
   "outputs": [],
   "source": [
    "anim = @animate for i in 1:2000\n",
    "    histogram(z[i, :], bins = 40, label = \"$i\", xlims = (-0.5, 0.5), ylims = (0, 20), normalize = true)\n",
    "end \n",
    "gif(anim, \"BirkhoffAverages.gif\", fps = 30)"
   ]
  },
  {
   "cell_type": "code",
   "execution_count": null,
   "metadata": {},
   "outputs": [],
   "source": [
    "ξ = 0.218*10^(-3)/2\n",
    "v = orbit_with_noise(BZ, rand(Float64, 200), ξ, 100000)"
   ]
  },
  {
   "cell_type": "code",
   "execution_count": null,
   "metadata": {},
   "outputs": [],
   "source": [
    "histogram(v[end, :], bins = 40)"
   ]
  },
  {
   "cell_type": "code",
   "execution_count": null,
   "metadata": {},
   "outputs": [],
   "source": [
    "z = BirkhoffAverages(ϕ, v)"
   ]
  },
  {
   "cell_type": "code",
   "execution_count": null,
   "metadata": {},
   "outputs": [],
   "source": [
    "sum(z[end, :])/200"
   ]
  },
  {
   "cell_type": "code",
   "execution_count": null,
   "metadata": {},
   "outputs": [],
   "source": [
    "histogram(z[end, :], bins = 40)"
   ]
  },
  {
   "cell_type": "markdown",
   "metadata": {},
   "source": [
    "# Final comments"
   ]
  },
  {
   "cell_type": "markdown",
   "metadata": {},
   "source": [
    "In this notebook we saw many non-rigorous tools to investigate dynamical systems with Julia. We used histograms to see how orbits distribute in the interval $[0, 1]$ under the action of the dynamics.\n",
    "\n",
    "We showed how to compute orbits, how to approximate the Birkhoff averages of observables and how to approximate an important quantity, the Lyapunov exponent (associated to the Physical measure).\n",
    "\n",
    "We showed how this can be computed with various methods and different precisions, but all of these methods do not study the true dynamics, but a floating point approximation of it.\n",
    "To show this, I will show one last example."
   ]
  },
  {
   "cell_type": "code",
   "execution_count": null,
   "metadata": {},
   "outputs": [],
   "source": [
    "doubling(x) = mod(2*x, 1)"
   ]
  },
  {
   "cell_type": "code",
   "execution_count": null,
   "metadata": {},
   "outputs": [],
   "source": [
    "v = orbit(doubling, Float64(π)/4, 52)"
   ]
  },
  {
   "cell_type": "code",
   "execution_count": null,
   "metadata": {},
   "outputs": [],
   "source": [
    "histogram(v, bins = 10, normalize = true, label = \"10 iterates\")"
   ]
  },
  {
   "cell_type": "code",
   "execution_count": null,
   "metadata": {},
   "outputs": [],
   "source": [
    "v = orbit(doubling, Float64(π)/4, 500)"
   ]
  },
  {
   "cell_type": "code",
   "execution_count": null,
   "metadata": {},
   "outputs": [],
   "source": [
    "histogram(v, bins = 10, normalize = true, label = \"500 iterates\")"
   ]
  },
  {
   "cell_type": "code",
   "execution_count": null,
   "metadata": {},
   "outputs": [],
   "source": [
    "setprecision(1024)\n",
    "v = orbit(doubling, BigFloat(π)/4, 500);\n",
    "histogram(v, bins = 10, normalize = true, label = \"500 iterates BigFloat\")"
   ]
  },
  {
   "cell_type": "markdown",
   "metadata": {},
   "source": [
    "The issue is that the computer represents numbers in base $2$ and the map $2x\\, mod\\, 1$ acts as a shift in base $2$; due to the fact that the the computer is a finite machine and pads with $0$, for any floating point number all the orbits converge to $0$ in a number of iterates equal to the precision. "
   ]
  },
  {
   "cell_type": "code",
   "execution_count": null,
   "metadata": {},
   "outputs": [],
   "source": [
    "setprecision(1024)\n",
    "v = orbit(doubling, BigFloat(π)/4, 2000);\n",
    "histogram(v, bins = 10, normalize = true, label = \"2000 iterates BigFloat\")"
   ]
  },
  {
   "cell_type": "markdown",
   "metadata": {},
   "source": [
    "The number $\\pi/4$ has infinite binary expansion, and a mathematical analysis of the orbit of $\\pi/4$ under the action of the dynamics shows that it does not land on $0$ but its binary representation does.\n",
    "In general, since we have only a finite number of floating point numbers, for any dynamics $f$ its floating point representation has only preperiodic orbits (by Pidgeon Hole Principle). \n",
    "\n",
    "\n",
    "This is a strong motivation for looking for other tools to understand the statistichal behaviour of a dynamical system, through the use of tools from Functional Analysis.\n",
    "\n",
    "I will present them in the next days, starting tomorrow from Interval Arithmetics, a tool that allows us to do Validated numerical computations."
   ]
  }
 ],
 "metadata": {
  "kernelspec": {
   "display_name": "Julia 1.9.2",
   "language": "julia",
   "name": "julia-1.9"
  },
  "language_info": {
   "file_extension": ".jl",
   "mimetype": "application/julia",
   "name": "julia",
   "version": "1.9.2"
  },
  "orig_nbformat": 4
 },
 "nbformat": 4,
 "nbformat_minor": 2
}
