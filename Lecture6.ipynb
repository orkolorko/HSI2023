{
 "cells": [
  {
   "cell_type": "markdown",
   "id": "89cf34be",
   "metadata": {},
   "source": [
    "# Summary of last lecture"
   ]
  },
  {
   "cell_type": "markdown",
   "id": "b269714c",
   "metadata": {},
   "source": [
    "In last lecture I explained some of the tools that work under the hood of our package and allow us to keep track of all numerical errors and allow us to prove some simple mathematical results with the assistance of a computer:\n",
    "- Interval Arithmetic allows us to bound the range of a function on an Interval\n",
    "- Interval Newton Method allows us to rigorously solve the equation $f(x)=y$ and so allows us to rigorously find the inverse values of a function\n",
    "- TaylorModels allow us to compute derivatives and integrals rigorously"
   ]
  },
  {
   "cell_type": "markdown",
   "id": "4ad5c092",
   "metadata": {},
   "source": [
    "# Approximating the Ulam operator"
   ]
  },
  {
   "cell_type": "markdown",
   "id": "4b3e4570",
   "metadata": {},
   "source": [
    "In this section I will comment on the Ulam operator, its implementation and how to run the functions in our InvariantMeasures.jl package."
   ]
  },
  {
   "cell_type": "markdown",
   "id": "b5be43bd",
   "metadata": {},
   "source": [
    "Given a dynamical system $T:[0,1]\\to [0,1]$ the Ulam operator on a partition $P = \\{I_i\\}$ is a Markov chain whose transition probabilities are\n",
    "$$\n",
    "M(i \\to j) = P(T(x)\\in I_i \\mid x \\in I_j).\n",
    "$$\n",
    "\n",
    "This can be rewritten in the following form, if $m$ is the Lebesgue measure\n",
    "$$\n",
    "M(i \\to j) = \\frac{m(T^{-1}I_i\\cap I_j)}{m(I_j)}\n",
    "$$"
   ]
  },
  {
   "cell_type": "code",
   "execution_count": null,
   "id": "e98fcfaa",
   "metadata": {
    "scrolled": true
   },
   "outputs": [],
   "source": [
    "import Pkg;\n",
    "# Pkg.rm(\"RigorousInvariantMeasures\")\n",
    "# normally you can only install the package as below; I am reworking a couple of interface issues in these \n",
    "# days, I will do a release during this week\n",
    "#Pkg.add(\"RigorousInvariantMeasures\")\n",
    "Pkg.add(path = \"https://github.com/JuliaDynamics/RigorousInvariantMeasures.jl/\")"
   ]
  },
  {
   "cell_type": "code",
   "execution_count": null,
   "id": "8ebf10c0",
   "metadata": {},
   "outputs": [],
   "source": [
    "Pkg.instantiate()"
   ]
  },
  {
   "cell_type": "code",
   "execution_count": null,
   "id": "37aba136",
   "metadata": {},
   "outputs": [],
   "source": [
    "using RigorousInvariantMeasures"
   ]
  },
  {
   "cell_type": "markdown",
   "id": "6902cf0b",
   "metadata": {},
   "source": [
    "The Package has already implemented different basis types, that work out of the box:\n",
    "- Ulam basis for approximation in the $L^1$ norm\n",
    "- Hat Basis for approximation in the $L^{\\infty}$ norm (the dynamic must be Markov and regular)\n",
    "\n",
    "the following two basis are also partially implemented\n",
    "\n",
    "- a spline basis for approximations in $C^1$ (the dynamic must be Markov and regular)\n",
    "- a Chebyshev basis for approximations in $C^1$ (the dynamic must be Markov and regular)\n",
    "\n",
    "Today we will be working with the Ulam approximation."
   ]
  },
  {
   "cell_type": "code",
   "execution_count": null,
   "id": "0ef26722",
   "metadata": {},
   "outputs": [],
   "source": [
    "B = Ulam(16)"
   ]
  },
  {
   "cell_type": "markdown",
   "id": "9cce1ba7",
   "metadata": {},
   "source": [
    "We will start by analizing a known map, for which it is simple to compare what the computer is doing with pen and paper computations.\n",
    "\n",
    "In the file DynamicDefinition.jl of the package the methods that a Dynamic type has to satisfy for the package to work out of the box are stated.\n",
    "\n",
    "At the moment, a generic Piecewise Dynamic type is defined in PwDynamicDefinition.jl, that should work in most cases."
   ]
  },
  {
   "cell_type": "code",
   "execution_count": null,
   "id": "d179de59",
   "metadata": {},
   "outputs": [],
   "source": [
    "@doc PwMap"
   ]
  },
  {
   "cell_type": "markdown",
   "id": "19ea3fbc",
   "metadata": {},
   "source": [
    "For our first example we will use an helper constructor, the \n",
    "```\n",
    "mod1_dynamic(f)\n",
    "```\n",
    "where $f$ is a function from $[0,1]\\to \\mathbb{R}$, that constructs a PwMap without us worrying too much about the underlying structure. "
   ]
  },
  {
   "cell_type": "code",
   "execution_count": null,
   "id": "512cdf1a",
   "metadata": {},
   "outputs": [],
   "source": [
    "D = mod1_dynamic(x->2*x)"
   ]
  },
  {
   "cell_type": "code",
   "execution_count": null,
   "id": "da8f7131",
   "metadata": {},
   "outputs": [],
   "source": [
    "D.branches"
   ]
  },
  {
   "cell_type": "code",
   "execution_count": null,
   "id": "5cd357b9",
   "metadata": {},
   "outputs": [],
   "source": [
    "D.branches[1].X"
   ]
  },
  {
   "cell_type": "code",
   "execution_count": null,
   "id": "65f8e44f",
   "metadata": {},
   "outputs": [],
   "source": [
    "D.branches[1].Y"
   ]
  },
  {
   "cell_type": "code",
   "execution_count": null,
   "id": "60db124e",
   "metadata": {},
   "outputs": [],
   "source": [
    "D.branches[1].f(0.1)"
   ]
  },
  {
   "cell_type": "code",
   "execution_count": null,
   "id": "1fb06e39",
   "metadata": {},
   "outputs": [],
   "source": [
    "derivative(D.branches[1].f, 0.1)"
   ]
  },
  {
   "cell_type": "code",
   "execution_count": null,
   "id": "c3844391",
   "metadata": {},
   "outputs": [],
   "source": [
    "import Pkg; Pkg.add(\"LaTeXStrings\")\n",
    "using Plots, LaTeXStrings"
   ]
  },
  {
   "cell_type": "code",
   "execution_count": null,
   "id": "86e12878",
   "metadata": {},
   "outputs": [],
   "source": [
    "strong_norm(B)"
   ]
  },
  {
   "cell_type": "code",
   "execution_count": null,
   "id": "d6472d4f",
   "metadata": {},
   "outputs": [],
   "source": [
    "aux_norm(B)"
   ]
  },
  {
   "cell_type": "code",
   "execution_count": null,
   "id": "6e6b343a",
   "metadata": {},
   "outputs": [],
   "source": [
    "A, BB = dfly(strong_norm(B), aux_norm(B), D)\n",
    "plot(D, title=\"Dynamic (dfly coeffs $(round(A, sigdigits=2)), $(round(BB, sigdigits=2)))\", label=L\"T(x)\", legend=:bottomright)"
   ]
  },
  {
   "cell_type": "markdown",
   "id": "c60398e7",
   "metadata": {},
   "source": [
    "What we are going to do is to compute preimages of an interval."
   ]
  },
  {
   "cell_type": "code",
   "execution_count": null,
   "id": "7f923f2b",
   "metadata": {},
   "outputs": [],
   "source": [
    "@doc RigorousInvariantMeasures.preimages"
   ]
  },
  {
   "cell_type": "markdown",
   "id": "8149583a",
   "metadata": {},
   "source": [
    "The function preim is doing nothing else than computing the preimages of the endpoints of $B$, using the Interval Newton method. To show this, I will compare them side to side, when computing the preimages through the first branch."
   ]
  },
  {
   "cell_type": "code",
   "execution_count": null,
   "id": "26a391d6",
   "metadata": {},
   "outputs": [],
   "source": [
    "B.p"
   ]
  },
  {
   "cell_type": "code",
   "execution_count": null,
   "id": "78932bc0",
   "metadata": {},
   "outputs": [],
   "source": [
    "v, v_labels = RigorousInvariantMeasures.preimages(B.p, D; ϵ = 0.00001, max_iter = 100);\n",
    "v"
   ]
  },
  {
   "cell_type": "markdown",
   "id": "9183164a",
   "metadata": {},
   "source": [
    "Once we have the preimages of the interval $I_i$, we can compute the intersection with the interval $I_j$.\n",
    "As an example, we will compute the relative measure of $T^{-1}(I_1)$ in $I_1$"
   ]
  },
  {
   "cell_type": "code",
   "execution_count": null,
   "id": "72f9da79",
   "metadata": {},
   "outputs": [],
   "source": [
    "v_labels[1], v_labels[2]"
   ]
  },
  {
   "cell_type": "code",
   "execution_count": null,
   "id": "fef847e6",
   "metadata": {},
   "outputs": [],
   "source": [
    "preimage_of_interval_through_first_branch = (v[1], v[2])"
   ]
  },
  {
   "cell_type": "code",
   "execution_count": null,
   "id": "2a24fb95",
   "metadata": {},
   "outputs": [],
   "source": [
    "interval_I_1 = (Interval(B.p[1]), Interval(B.p[2]))"
   ]
  },
  {
   "cell_type": "code",
   "execution_count": null,
   "id": "68e513a8",
   "metadata": {},
   "outputs": [],
   "source": [
    "RigorousInvariantMeasures.relative_measure(\n",
    "    (v[1],v[2]), \n",
    "    (Interval(B.p[1]), Interval(B.p[2]))\n",
    "    )"
   ]
  },
  {
   "cell_type": "markdown",
   "id": "bd890922",
   "metadata": {},
   "source": [
    "As you can see, this relative measure returns an Interval, because the preimages are wide intervals. This interval contains that the true value of $M(i\\to j)$. This adds an error in our computation, but this is taken care by the package.\n",
    "\n",
    "Please remark that you do not need to do this for each entry of the matrix, the package already exports a function that does everything for you."
   ]
  },
  {
   "cell_type": "code",
   "execution_count": null,
   "id": "46f244e9",
   "metadata": {
    "scrolled": true
   },
   "outputs": [],
   "source": [
    "B = Ulam(256)\n",
    "Q = DiscretizedOperator(B, D)"
   ]
  },
  {
   "cell_type": "markdown",
   "id": "32062595",
   "metadata": {},
   "source": [
    "The Discretized operator is our Ulam Matrix (and some other objects, for other discretizations)."
   ]
  },
  {
   "cell_type": "code",
   "execution_count": null,
   "id": "777201bd",
   "metadata": {},
   "outputs": [],
   "source": [
    "Q.L[1, 1]"
   ]
  },
  {
   "cell_type": "markdown",
   "id": "0f97018e",
   "metadata": {},
   "source": [
    "In contrast with the usual notation for Markov chains, we want densities to be multiplied on the right, so, if you are used to the usual Markov chain notations, you have to switch the row and column indexes."
   ]
  },
  {
   "cell_type": "markdown",
   "id": "edab6fb8",
   "metadata": {},
   "source": [
    "We will now compute an a posteriori bound on the mixing time of the Markov chain, by iterating it on vectors of the form $(1, 0, \\ldots, 0,  -1, 0, \\ldots )$"
   ]
  },
  {
   "cell_type": "code",
   "execution_count": null,
   "id": "adf4be56",
   "metadata": {},
   "outputs": [],
   "source": [
    "RigorousInvariantMeasures.opnormbound(L1, Q.L)"
   ]
  },
  {
   "cell_type": "code",
   "execution_count": null,
   "id": "d4ab42ed",
   "metadata": {
    "scrolled": true
   },
   "outputs": [],
   "source": [
    "@time norms = powernormbounds(B, D; Q=Q)"
   ]
  },
  {
   "cell_type": "code",
   "execution_count": null,
   "id": "06c6c0d1",
   "metadata": {},
   "outputs": [],
   "source": [
    "plot(1:16,norms[1:16])"
   ]
  },
  {
   "cell_type": "markdown",
   "id": "3b09ca4a",
   "metadata": {},
   "source": [
    "As you can see, our algorithm computes a rigorous bound on the mixing time of the Markov chain Q; it is possible to observe the cutoff phenomena.\n",
    "\n",
    "Let's see what happens if we take a finer partition."
   ]
  },
  {
   "cell_type": "code",
   "execution_count": null,
   "id": "dfaf8cb6",
   "metadata": {},
   "outputs": [],
   "source": [
    "B = Ulam(1024)\n",
    "Q = DiscretizedOperator(B, D)\n",
    "@time norms = powernormbounds(B, D; Q=Q)"
   ]
  },
  {
   "cell_type": "code",
   "execution_count": null,
   "id": "7189fa27",
   "metadata": {},
   "outputs": [],
   "source": [
    "plot!(1:16,norms[1:16], color = :red)"
   ]
  },
  {
   "cell_type": "markdown",
   "id": "d4bd134e",
   "metadata": {},
   "source": [
    "As you can see, the mixing time of the Markov chain has grown as the size of the partition has grown. The spectral stability result of Liverani Keller guarantees that the mixing time grow as $\\log(k)$, where $k$ is the size of the partition. \n",
    "\n",
    "In this case, a simple argument to show this is that if we take a partition of size $k = 2^N$ it takes $N$ iterates of the transfer operator for an element of the Ulam basis to cover all of $[0,1]$."
   ]
  },
  {
   "cell_type": "code",
   "execution_count": null,
   "id": "25b4d578",
   "metadata": {},
   "outputs": [],
   "source": [
    "w = invariant_vector(B, Q)"
   ]
  },
  {
   "cell_type": "code",
   "execution_count": null,
   "id": "a290dfcc",
   "metadata": {},
   "outputs": [],
   "source": [
    "error = distance_from_invariant(B, D, Q, w, norms)"
   ]
  },
  {
   "cell_type": "markdown",
   "id": "7c528e3b",
   "metadata": {},
   "source": [
    "## An intuition of the coarse fine method"
   ]
  },
  {
   "cell_type": "markdown",
   "id": "e78cbe28",
   "metadata": {},
   "source": [
    "Now, I will try to give an intuitive idea behind how the coarse-fine method works."
   ]
  },
  {
   "cell_type": "code",
   "execution_count": null,
   "id": "849df6c6",
   "metadata": {},
   "outputs": [],
   "source": [
    "v = zeros(1024);\n",
    "v[1] = 1;"
   ]
  },
  {
   "cell_type": "code",
   "execution_count": null,
   "id": "0f827114",
   "metadata": {},
   "outputs": [],
   "source": [
    "v = Q*v\n",
    "plot(B, v)"
   ]
  },
  {
   "cell_type": "code",
   "execution_count": null,
   "id": "2d90c7e5",
   "metadata": {},
   "outputs": [],
   "source": [
    "v = Q*v\n",
    "plot(B, v)"
   ]
  },
  {
   "cell_type": "code",
   "execution_count": null,
   "id": "cf9b279e",
   "metadata": {},
   "outputs": [],
   "source": [
    "for i in 1:5\n",
    "    v = Q*v\n",
    "end\n",
    "plot(B, v)"
   ]
  },
  {
   "cell_type": "markdown",
   "id": "c8237e45",
   "metadata": {},
   "source": [
    "Under iterations of the system, the support of the vector $v$ becomes bigger, so it becomes visible to coarser discretizations.\n",
    "\n",
    "The coarse operator and the fine operator satisfy the same Lasota-Yorke inequality and this guarantees that under iterations the variation of an observable is decreasing (up to some limit)."
   ]
  },
  {
   "cell_type": "markdown",
   "id": "d5a21490",
   "metadata": {},
   "source": [
    "## A nonlinear example"
   ]
  },
  {
   "cell_type": "markdown",
   "id": "a80a0af3",
   "metadata": {},
   "source": [
    "We will now study the map from [O. Lanford, Informal remarks on the orbit structure of discrete approximations](https://projecteuclid.org/journals/experimental-mathematics/volume-7/issue-4/Informal-remarks-on-the-orbit-structure-of-discrete-approximations-to/em/1047674149.full) which is a beautiful article on computing orbits and the path method to compute Birkhoff averages."
   ]
  },
  {
   "cell_type": "code",
   "execution_count": null,
   "id": "700c02aa",
   "metadata": {},
   "outputs": [],
   "source": [
    "D = mod1_dynamic(x->2*x+0.5*x*(1-x), full_branch = true)"
   ]
  },
  {
   "cell_type": "code",
   "execution_count": null,
   "id": "38ddf017",
   "metadata": {},
   "outputs": [],
   "source": [
    "A, BB = dfly(strong_norm(B), aux_norm(B), D)\n",
    "plot(D, title=\"Dynamic (dfly coeffs $(round(A, sigdigits=2)), $(round(BB, sigdigits=2)))\", label=L\"T(x)\", legend=:bottomright)"
   ]
  },
  {
   "cell_type": "code",
   "execution_count": null,
   "id": "b96d3e67",
   "metadata": {},
   "outputs": [],
   "source": [
    "B = Ulam(1024)\n",
    "Q = DiscretizedOperator(B, D)"
   ]
  },
  {
   "cell_type": "code",
   "execution_count": null,
   "id": "359b62a4",
   "metadata": {},
   "outputs": [],
   "source": [
    "norms = powernormbounds(B, D; Q=Q)"
   ]
  },
  {
   "cell_type": "code",
   "execution_count": null,
   "id": "d8ec7587",
   "metadata": {},
   "outputs": [],
   "source": [
    "plot(norms)"
   ]
  },
  {
   "cell_type": "code",
   "execution_count": null,
   "id": "ce3761d4",
   "metadata": {},
   "outputs": [],
   "source": [
    "w = invariant_vector(B, Q)"
   ]
  },
  {
   "cell_type": "code",
   "execution_count": null,
   "id": "f8e5e4e0",
   "metadata": {},
   "outputs": [],
   "source": [
    "error = distance_from_invariant(B, D, Q, w, norms)"
   ]
  },
  {
   "cell_type": "code",
   "execution_count": null,
   "id": "7ff7b0a6",
   "metadata": {},
   "outputs": [],
   "source": [
    "plot(B, w)\n",
    "plot!(B, error)"
   ]
  },
  {
   "cell_type": "markdown",
   "id": "9776fddf",
   "metadata": {},
   "source": [
    "We use now the coarse-fine strategy."
   ]
  },
  {
   "cell_type": "code",
   "execution_count": null,
   "id": "ecf606c8",
   "metadata": {},
   "outputs": [],
   "source": [
    "B_fine = Ulam(2^16)\n",
    "Q_fine = DiscretizedOperator(B_fine, D)"
   ]
  },
  {
   "cell_type": "code",
   "execution_count": null,
   "id": "4aab6171",
   "metadata": {},
   "outputs": [],
   "source": [
    "normQ_fine = opnormbound(B_fine, weak_norm(B_fine), Q_fine)\n",
    "norms_fine = finepowernormbounds(B, B_fine, D, norms; normQ_fine=normQ_fine)\n",
    "w_fine = invariant_vector(B_fine, Q_fine)\n",
    "error_fine = distance_from_invariant(B_fine, D, Q_fine, w_fine, norms_fine)"
   ]
  },
  {
   "cell_type": "code",
   "execution_count": null,
   "id": "73b6162d",
   "metadata": {},
   "outputs": [],
   "source": [
    "plot(norms)\n",
    "plot!(norms_fine)"
   ]
  },
  {
   "cell_type": "code",
   "execution_count": null,
   "id": "8fe91f02",
   "metadata": {},
   "outputs": [],
   "source": [
    "plot(B_fine, w_fine)\n",
    "plot!(B_fine, error_fine)"
   ]
  },
  {
   "cell_type": "markdown",
   "id": "3dab0252",
   "metadata": {},
   "source": [
    "We can now compute rigorously the Lyapunov Exponent."
   ]
  },
  {
   "cell_type": "code",
   "execution_count": null,
   "id": "ecfdf456",
   "metadata": {},
   "outputs": [],
   "source": [
    "logder = discretizationlogder(B_fine, D)"
   ]
  },
  {
   "cell_type": "code",
   "execution_count": null,
   "id": "87e69dd5",
   "metadata": {},
   "outputs": [],
   "source": [
    "integrateobservable(B_fine, logder, w_fine, error_fine)"
   ]
  },
  {
   "cell_type": "markdown",
   "id": "e9db594a",
   "metadata": {},
   "source": [
    "I will show now the interface to the small-matrix method to estimate the speed of convergence in $BV$ of the original operator."
   ]
  },
  {
   "cell_type": "code",
   "execution_count": null,
   "id": "e25a26f4",
   "metadata": {},
   "outputs": [],
   "source": [
    "weak_bound, strong_bound = convergencerateabstract(B_fine, D, norms_fine)"
   ]
  },
  {
   "cell_type": "code",
   "execution_count": null,
   "id": "7bfc91bd",
   "metadata": {},
   "outputs": [],
   "source": [
    "plot(strong_bound)"
   ]
  },
  {
   "cell_type": "markdown",
   "id": "3b640c76",
   "metadata": {},
   "source": [
    "## Nonrigorous experiments: spectral stability"
   ]
  },
  {
   "cell_type": "markdown",
   "id": "301b5a37",
   "metadata": {},
   "source": [
    "I would like to present now some numerical experiments on the spectral stability of the Ulam operator.\n",
    "To do so, we will take different partition size and do a pseudospectral plot, plotting a numerical approximation of the spectrum and of the level lines of the resolvent."
   ]
  },
  {
   "cell_type": "code",
   "execution_count": null,
   "id": "90145f8d",
   "metadata": {},
   "outputs": [],
   "source": [
    "import Pkg; Pkg.add(\"Pseudospectra\")"
   ]
  },
  {
   "cell_type": "code",
   "execution_count": null,
   "id": "763e1a53",
   "metadata": {},
   "outputs": [],
   "source": [
    "using Pseudospectra, IntervalArithmetic"
   ]
  },
  {
   "cell_type": "code",
   "execution_count": null,
   "id": "b658fe50",
   "metadata": {},
   "outputs": [],
   "source": [
    "using IntervalArithmetic"
   ]
  },
  {
   "cell_type": "code",
   "execution_count": null,
   "id": "c6f66aec",
   "metadata": {},
   "outputs": [],
   "source": [
    "B = Ulam(16)\n",
    "Q = DiscretizedOperator(B, D)\n",
    "spectralportrait(Matrix(mid.(Q.L))) # the method is not defined for our DiscretizedOperators yet!!!\n",
    "# so we take the matrix of the midpoints of Q"
   ]
  },
  {
   "cell_type": "code",
   "execution_count": null,
   "id": "269a1c0a",
   "metadata": {},
   "outputs": [],
   "source": [
    "B = Ulam(256)\n",
    "Q = DiscretizedOperator(B, D)\n",
    "spectralportrait(Matrix(mid.(Q.L)))"
   ]
  },
  {
   "cell_type": "code",
   "execution_count": null,
   "id": "a9e04198",
   "metadata": {},
   "outputs": [],
   "source": [
    "B = Ulam(1024)\n",
    "Q = DiscretizedOperator(B, D)\n",
    "spectralportrait(Matrix(mid.(Q.L)))"
   ]
  },
  {
   "cell_type": "markdown",
   "id": "ee8ba5ba",
   "metadata": {},
   "source": [
    "From these experiments is possible to see that while the spectrum of the operators is different, its structure is preserved."
   ]
  },
  {
   "cell_type": "markdown",
   "id": "8b22b388",
   "metadata": {},
   "source": [
    "## A Non-Markov example"
   ]
  },
  {
   "cell_type": "markdown",
   "id": "e9abe658",
   "metadata": {},
   "source": [
    "Finally, I will show the same computation in an example which is non Markov."
   ]
  },
  {
   "cell_type": "code",
   "execution_count": null,
   "id": "7a6a4431",
   "metadata": {},
   "outputs": [],
   "source": [
    "D = PwMap([x->17*x/5, \n",
    "\tx->(34*((17*x-5)/17)/25+3)*((17*x-5)/17), \n",
    "\tx->(34*((17*x-10)/17)/25+3)*((17*x-10)/17), \n",
    "\tx->17*((17*x-15)/17)/5], \n",
    "\t[Interval(0), Interval(5)/17, Interval(10)/17, Interval(15)/17, Interval(1)],\n",
    "\t[Interval(0) Interval(1);\n",
    "\t Interval(0) Interval(1);\n",
    "\t Interval(0) Interval(1);\n",
    "\t Interval(0) @interval(0.4)]\n",
    "\t)\n",
    "A, BB = dfly(strong_norm(B), aux_norm(B), D)\n",
    "plot(D, title=\"Dynamic (dfly coeffs $(round(A, sigdigits=2)), $(round(BB, sigdigits=2)))\", label=L\"T(x)\", legend=:bottomright)"
   ]
  },
  {
   "cell_type": "code",
   "execution_count": null,
   "id": "be387ce6",
   "metadata": {},
   "outputs": [],
   "source": [
    "B = Ulam(1024)\n",
    "Q = DiscretizedOperator(B, D)"
   ]
  },
  {
   "cell_type": "code",
   "execution_count": null,
   "id": "12b47214",
   "metadata": {},
   "outputs": [],
   "source": [
    "norms = powernormbounds(B, D; Q=Q)"
   ]
  },
  {
   "cell_type": "code",
   "execution_count": null,
   "id": "da598a56",
   "metadata": {},
   "outputs": [],
   "source": [
    "B_fine = Ulam(2^16)\n",
    "Q_fine = DiscretizedOperator(B_fine, D)"
   ]
  },
  {
   "cell_type": "code",
   "execution_count": null,
   "id": "e906d11e",
   "metadata": {},
   "outputs": [],
   "source": [
    "normQ_fine = opnormbound(B_fine, weak_norm(B_fine), Q_fine)\n",
    "norms_fine = finepowernormbounds(B, B_fine, D, norms; normQ_fine=normQ_fine)\n",
    "w_fine = invariant_vector(B_fine, Q_fine)\n",
    "error_fine = distance_from_invariant(B_fine, D, Q_fine, w_fine, norms_fine)"
   ]
  },
  {
   "cell_type": "code",
   "execution_count": null,
   "id": "fad51e47",
   "metadata": {},
   "outputs": [],
   "source": [
    "plot(B_fine, w_fine)\n",
    "plot!(B_fine, error_fine)"
   ]
  },
  {
   "cell_type": "code",
   "execution_count": null,
   "id": "4c5bf55d",
   "metadata": {},
   "outputs": [],
   "source": [
    "logder = discretizationlogder(B_fine, D)\n",
    "integrateobservable(B_fine, logder, w_fine, error_fine)"
   ]
  },
  {
   "cell_type": "markdown",
   "id": "8ff294ac",
   "metadata": {},
   "source": [
    "# Summary of this lecture"
   ]
  },
  {
   "cell_type": "markdown",
   "id": "63ce2fb4",
   "metadata": {},
   "source": [
    "In this lecture I showed how to use our package to rigorously approximate the Ulam operator on a partition, how to use our package to compute the norms of this discretized operator on the space of average $0$ functions and how to use the coarse-fine approach to get estimates on the mixing time of finer operators.\n",
    "\n",
    "This allows us to rigorously approximate the invariant density of the system, and through rigorous integration to compute the Lyapunov exponent and the Birkhoff averages of an observable with a rigorous error bound."
   ]
  },
  {
   "cell_type": "code",
   "execution_count": null,
   "id": "a2666fb9",
   "metadata": {},
   "outputs": [],
   "source": []
  }
 ],
 "metadata": {
  "kernelspec": {
   "display_name": "Julia 1.9.2",
   "language": "julia",
   "name": "julia-1.9"
  },
  "language_info": {
   "file_extension": ".jl",
   "mimetype": "application/julia",
   "name": "julia",
   "version": "1.9.2"
  }
 },
 "nbformat": 4,
 "nbformat_minor": 5
}
